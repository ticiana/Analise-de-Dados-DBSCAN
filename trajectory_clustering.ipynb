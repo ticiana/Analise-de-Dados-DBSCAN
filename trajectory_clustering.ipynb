{
 "cells": [
  {
   "cell_type": "code",
   "execution_count": 88,
   "metadata": {
    "collapsed": true
   },
   "outputs": [],
   "source": [
    "import numpy as np\n",
    "import pandas as pd\n",
    "from sklearn.cluster import DBSCAN\n",
    "from sklearn import metrics\n",
    "from sklearn.preprocessing import StandardScaler"
   ]
  },
  {
   "cell_type": "markdown",
   "metadata": {},
   "source": [
    "-- https://archive.ics.uci.edu/ml/datasets/GPS+Trajectories"
   ]
  },
  {
   "cell_type": "code",
   "execution_count": 89,
   "metadata": {
    "collapsed": true
   },
   "outputs": [],
   "source": [
    "data = pd.read_csv('go_track_trackspoints.csv')"
   ]
  },
  {
   "cell_type": "code",
   "execution_count": 90,
   "metadata": {
    "collapsed": false
   },
   "outputs": [
    {
     "data": {
      "text/html": [
       "<div>\n",
       "<table border=\"1\" class=\"dataframe\">\n",
       "  <thead>\n",
       "    <tr style=\"text-align: right;\">\n",
       "      <th></th>\n",
       "      <th>id</th>\n",
       "      <th>latitude</th>\n",
       "      <th>longitude</th>\n",
       "      <th>track_id</th>\n",
       "    </tr>\n",
       "  </thead>\n",
       "  <tbody>\n",
       "    <tr>\n",
       "      <th>count</th>\n",
       "      <td>18107.000000</td>\n",
       "      <td>18107.000000</td>\n",
       "      <td>18107.000000</td>\n",
       "      <td>18107.000000</td>\n",
       "    </tr>\n",
       "    <tr>\n",
       "      <th>mean</th>\n",
       "      <td>9958.405920</td>\n",
       "      <td>-10.998744</td>\n",
       "      <td>-37.111923</td>\n",
       "      <td>13296.340697</td>\n",
       "    </tr>\n",
       "    <tr>\n",
       "      <th>std</th>\n",
       "      <td>5748.673657</td>\n",
       "      <td>1.329848</td>\n",
       "      <td>0.938015</td>\n",
       "      <td>18040.767448</td>\n",
       "    </tr>\n",
       "    <tr>\n",
       "      <th>min</th>\n",
       "      <td>1.000000</td>\n",
       "      <td>-27.603175</td>\n",
       "      <td>-48.632918</td>\n",
       "      <td>1.000000</td>\n",
       "    </tr>\n",
       "    <tr>\n",
       "      <th>25%</th>\n",
       "      <td>4736.500000</td>\n",
       "      <td>-10.944041</td>\n",
       "      <td>-37.073069</td>\n",
       "      <td>33.000000</td>\n",
       "    </tr>\n",
       "    <tr>\n",
       "      <th>50%</th>\n",
       "      <td>10376.000000</td>\n",
       "      <td>-10.922000</td>\n",
       "      <td>-37.057784</td>\n",
       "      <td>136.000000</td>\n",
       "    </tr>\n",
       "    <tr>\n",
       "      <th>75%</th>\n",
       "      <td>15004.500000</td>\n",
       "      <td>-10.904268</td>\n",
       "      <td>-37.050190</td>\n",
       "      <td>37992.000000</td>\n",
       "    </tr>\n",
       "    <tr>\n",
       "      <th>max</th>\n",
       "      <td>19569.000000</td>\n",
       "      <td>-10.292845</td>\n",
       "      <td>-36.493357</td>\n",
       "      <td>38092.000000</td>\n",
       "    </tr>\n",
       "  </tbody>\n",
       "</table>\n",
       "</div>"
      ],
      "text/plain": [
       "                 id      latitude     longitude      track_id\n",
       "count  18107.000000  18107.000000  18107.000000  18107.000000\n",
       "mean    9958.405920    -10.998744    -37.111923  13296.340697\n",
       "std     5748.673657      1.329848      0.938015  18040.767448\n",
       "min        1.000000    -27.603175    -48.632918      1.000000\n",
       "25%     4736.500000    -10.944041    -37.073069     33.000000\n",
       "50%    10376.000000    -10.922000    -37.057784    136.000000\n",
       "75%    15004.500000    -10.904268    -37.050190  37992.000000\n",
       "max    19569.000000    -10.292845    -36.493357  38092.000000"
      ]
     },
     "execution_count": 90,
     "metadata": {},
     "output_type": "execute_result"
    }
   ],
   "source": [
    "data.describe()"
   ]
  },
  {
   "cell_type": "code",
   "execution_count": 91,
   "metadata": {
    "collapsed": false
   },
   "outputs": [],
   "source": [
    "columns = ['id', 'track_id', 'time']\n",
    "x = pd.DataFrame(data.drop(data[columns], axis=1))"
   ]
  },
  {
   "cell_type": "code",
   "execution_count": 92,
   "metadata": {
    "collapsed": false
   },
   "outputs": [
    {
     "name": "stdout",
     "output_type": "stream",
     "text": [
      "Index([u'latitude', u'longitude'], dtype='object')\n"
     ]
    }
   ],
   "source": [
    "print(x.columns)\n",
    "x['latitude'] = x['latitude'].astype(float)\n",
    "x['longitude'] = x['longitude'].astype(float)"
   ]
  },
  {
   "cell_type": "code",
   "execution_count": 93,
   "metadata": {
    "collapsed": false
   },
   "outputs": [],
   "source": [
    "db = DBSCAN(eps=0.005,min_samples=10).fit(x)\n",
    "#db.fit_predict(x)"
   ]
  },
  {
   "cell_type": "markdown",
   "metadata": {},
   "source": [
    "### core_samples_mask guarda True, os pontos que forem classificados como core"
   ]
  },
  {
   "cell_type": "code",
   "execution_count": 94,
   "metadata": {
    "collapsed": true
   },
   "outputs": [],
   "source": [
    "core_samples_mask = np.zeros_like(db.labels_, dtype=bool)\n",
    "core_samples_mask[db.core_sample_indices_] = True"
   ]
  },
  {
   "cell_type": "markdown",
   "metadata": {},
   "source": [
    "### labels guarda o label dos clusters de cada ponto, lembrando que -1 é outlier"
   ]
  },
  {
   "cell_type": "code",
   "execution_count": 95,
   "metadata": {
    "collapsed": false
   },
   "outputs": [
    {
     "data": {
      "text/plain": [
       "array([0, 0, 0, ..., 0, 0, 0])"
      ]
     },
     "execution_count": 95,
     "metadata": {},
     "output_type": "execute_result"
    }
   ],
   "source": [
    "labels = db.labels_\n",
    "labels"
   ]
  },
  {
   "cell_type": "markdown",
   "metadata": {},
   "source": [
    "-- Cluster labels for each point in the dataset given to fit(). Noisy samples are given the label -1."
   ]
  },
  {
   "cell_type": "code",
   "execution_count": 96,
   "metadata": {
    "collapsed": false
   },
   "outputs": [],
   "source": [
    "n_clusters_ = len(set(labels)) - (1 if -1 in labels else 0)"
   ]
  },
  {
   "cell_type": "code",
   "execution_count": 97,
   "metadata": {
    "collapsed": false
   },
   "outputs": [
    {
     "name": "stdout",
     "output_type": "stream",
     "text": [
      "Clusters labels found by DBSCAN: [-1  0  1  2  3  4]\n"
     ]
    }
   ],
   "source": [
    "print('Clusters labels found by DBSCAN: %s' % np.unique(labels))"
   ]
  },
  {
   "cell_type": "code",
   "execution_count": 98,
   "metadata": {
    "collapsed": false
   },
   "outputs": [
    {
     "name": "stdout",
     "output_type": "stream",
     "text": [
      "Estimated number of clusters: 5\n"
     ]
    }
   ],
   "source": [
    "print('Estimated number of clusters: %d' % n_clusters_)"
   ]
  },
  {
   "cell_type": "code",
   "execution_count": 106,
   "metadata": {
    "collapsed": false
   },
   "outputs": [],
   "source": [
    "import csv\n",
    "\n",
    "csvfile = open('outputClusters.csv', 'wb')\n",
    "writer = csv.writer(csvfile)\n",
    "\n",
    "writer.writerow([\"id\", \"longitude\", \"latitude\", \"cluster_id\", \"iscore\"])\n",
    "\n",
    "for index, row in data.iterrows():\n",
    "    writer.writerow([row.id, row.longitude, row.latitude, labels[index], core_samples_mask[index]])\n",
    "\n",
    "csvfile.close()"
   ]
  },
  {
   "cell_type": "code",
   "execution_count": null,
   "metadata": {
    "collapsed": true
   },
   "outputs": [],
   "source": []
  }
 ],
 "metadata": {
  "kernelspec": {
   "display_name": "Python 2",
   "language": "python",
   "name": "python2"
  },
  "language_info": {
   "codemirror_mode": {
    "name": "ipython",
    "version": 2
   },
   "file_extension": ".py",
   "mimetype": "text/x-python",
   "name": "python",
   "nbconvert_exporter": "python",
   "pygments_lexer": "ipython2",
   "version": "2.7.13"
  }
 },
 "nbformat": 4,
 "nbformat_minor": 2
}
